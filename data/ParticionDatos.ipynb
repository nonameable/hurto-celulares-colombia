{
 "cells": [
  {
   "cell_type": "code",
   "execution_count": 7,
   "metadata": {
    "collapsed": true
   },
   "outputs": [],
   "source": [
    "import numpy as np\n",
    "import pandas as pd\n",
    "import itertools"
   ]
  },
  {
   "cell_type": "code",
   "execution_count": 2,
   "metadata": {
    "collapsed": true
   },
   "outputs": [],
   "source": [
    "ruta_archivo = 'DatosPreprocesados.csv' "
   ]
  },
  {
   "cell_type": "markdown",
   "metadata": {},
   "source": [
    "# Dataframe"
   ]
  },
  {
   "cell_type": "code",
   "execution_count": 3,
   "metadata": {},
   "outputs": [
    {
     "name": "stdout",
     "output_type": "stream",
     "text": [
      "36566\n"
     ]
    }
   ],
   "source": [
    "df = pd.read_csv(ruta_archivo)\n",
    "\n",
    "print(len(df))"
   ]
  },
  {
   "cell_type": "code",
   "execution_count": 4,
   "metadata": {},
   "outputs": [
    {
     "data": {
      "text/html": [
       "<div>\n",
       "<style>\n",
       "    .dataframe thead tr:only-child th {\n",
       "        text-align: right;\n",
       "    }\n",
       "\n",
       "    .dataframe thead th {\n",
       "        text-align: left;\n",
       "    }\n",
       "\n",
       "    .dataframe tbody tr th {\n",
       "        vertical-align: top;\n",
       "    }\n",
       "</style>\n",
       "<table border=\"1\" class=\"dataframe\">\n",
       "  <thead>\n",
       "    <tr style=\"text-align: right;\">\n",
       "      <th></th>\n",
       "      <th>FECHA</th>\n",
       "      <th>DEPARTAMENTO</th>\n",
       "      <th>MUNICIPIO</th>\n",
       "      <th>DIA</th>\n",
       "      <th>HORA</th>\n",
       "      <th>BARRIO</th>\n",
       "      <th>ZONA</th>\n",
       "      <th>SITIO</th>\n",
       "      <th>ARMA</th>\n",
       "      <th>MOVILAGRESOR</th>\n",
       "      <th>MOVILVICTIMA</th>\n",
       "      <th>EDAD</th>\n",
       "      <th>SEXO</th>\n",
       "      <th>NACIONALIDAD</th>\n",
       "      <th>MARCA</th>\n",
       "    </tr>\n",
       "  </thead>\n",
       "  <tbody>\n",
       "    <tr>\n",
       "      <th>0</th>\n",
       "      <td>ENERO</td>\n",
       "      <td>AMAZONAS</td>\n",
       "      <td>LETICIA (CT)</td>\n",
       "      <td>DOMINGO</td>\n",
       "      <td>MADRUGADA</td>\n",
       "      <td>JARDIN</td>\n",
       "      <td>URBANA</td>\n",
       "      <td>CASAS DE HABITACION</td>\n",
       "      <td>CONTUNDENTES</td>\n",
       "      <td>A PIE</td>\n",
       "      <td>A PIE</td>\n",
       "      <td>ADULTOJOVEN</td>\n",
       "      <td>FEMENINO</td>\n",
       "      <td>COLOMBIA</td>\n",
       "      <td>SAMSUNG</td>\n",
       "    </tr>\n",
       "    <tr>\n",
       "      <th>1</th>\n",
       "      <td>ENERO</td>\n",
       "      <td>ANTIOQUIA</td>\n",
       "      <td>BELLO</td>\n",
       "      <td>DOMINGO</td>\n",
       "      <td>MOVILIZACIONVESPERTINA</td>\n",
       "      <td>CIUDADELA DEL NORTE</td>\n",
       "      <td>URBANA</td>\n",
       "      <td>VIAS PUBLICAS</td>\n",
       "      <td>ARMA DE FUEGO</td>\n",
       "      <td>A PIE</td>\n",
       "      <td>A PIE</td>\n",
       "      <td>ADULTO</td>\n",
       "      <td>FEMENINO</td>\n",
       "      <td>COLOMBIA</td>\n",
       "      <td>SAMSUNG</td>\n",
       "    </tr>\n",
       "    <tr>\n",
       "      <th>2</th>\n",
       "      <td>ENERO</td>\n",
       "      <td>ANTIOQUIA</td>\n",
       "      <td>BELLO</td>\n",
       "      <td>DOMINGO</td>\n",
       "      <td>NOCHE</td>\n",
       "      <td>VDA. SAN FELIX</td>\n",
       "      <td>RURAL</td>\n",
       "      <td>VIAS PUBLICAS</td>\n",
       "      <td>ARMA DE FUEGO</td>\n",
       "      <td>A PIE</td>\n",
       "      <td>A PIE</td>\n",
       "      <td>ADULTO</td>\n",
       "      <td>MASCULINO</td>\n",
       "      <td>COLOMBIA</td>\n",
       "      <td>LENOVO</td>\n",
       "    </tr>\n",
       "    <tr>\n",
       "      <th>3</th>\n",
       "      <td>ENERO</td>\n",
       "      <td>ANTIOQUIA</td>\n",
       "      <td>BELLO</td>\n",
       "      <td>DOMINGO</td>\n",
       "      <td>NOCHE</td>\n",
       "      <td>SANTA RITA</td>\n",
       "      <td>URBANA</td>\n",
       "      <td>VIAS PUBLICAS</td>\n",
       "      <td>ARMA DE FUEGO</td>\n",
       "      <td>MOTOCICLETA</td>\n",
       "      <td>A PIE</td>\n",
       "      <td>ADULTOJOVEN</td>\n",
       "      <td>MASCULINO</td>\n",
       "      <td>COLOMBIA</td>\n",
       "      <td>SAMSUNG</td>\n",
       "    </tr>\n",
       "    <tr>\n",
       "      <th>4</th>\n",
       "      <td>ENERO</td>\n",
       "      <td>ANTIOQUIA</td>\n",
       "      <td>BELLO</td>\n",
       "      <td>DOMINGO</td>\n",
       "      <td>MANHANA</td>\n",
       "      <td>VDA. SAN FELIX</td>\n",
       "      <td>RURAL</td>\n",
       "      <td>VIAS PUBLICAS</td>\n",
       "      <td>ARMA BLANCA / CORTOPUNZANTE</td>\n",
       "      <td>MOTOCICLETA</td>\n",
       "      <td>VEHICULO</td>\n",
       "      <td>ADULTO</td>\n",
       "      <td>MASCULINO</td>\n",
       "      <td>COLOMBIA</td>\n",
       "      <td>APPLE</td>\n",
       "    </tr>\n",
       "  </tbody>\n",
       "</table>\n",
       "</div>"
      ],
      "text/plain": [
       "   FECHA DEPARTAMENTO     MUNICIPIO      DIA                    HORA  \\\n",
       "0  ENERO     AMAZONAS  LETICIA (CT)  DOMINGO               MADRUGADA   \n",
       "1  ENERO    ANTIOQUIA         BELLO  DOMINGO  MOVILIZACIONVESPERTINA   \n",
       "2  ENERO    ANTIOQUIA         BELLO  DOMINGO                   NOCHE   \n",
       "3  ENERO    ANTIOQUIA         BELLO  DOMINGO                   NOCHE   \n",
       "4  ENERO    ANTIOQUIA         BELLO  DOMINGO                 MANHANA   \n",
       "\n",
       "                BARRIO    ZONA                SITIO  \\\n",
       "0               JARDIN  URBANA  CASAS DE HABITACION   \n",
       "1  CIUDADELA DEL NORTE  URBANA        VIAS PUBLICAS   \n",
       "2       VDA. SAN FELIX   RURAL        VIAS PUBLICAS   \n",
       "3           SANTA RITA  URBANA        VIAS PUBLICAS   \n",
       "4       VDA. SAN FELIX   RURAL        VIAS PUBLICAS   \n",
       "\n",
       "                          ARMA MOVILAGRESOR MOVILVICTIMA         EDAD  \\\n",
       "0                 CONTUNDENTES        A PIE        A PIE  ADULTOJOVEN   \n",
       "1                ARMA DE FUEGO        A PIE        A PIE       ADULTO   \n",
       "2                ARMA DE FUEGO        A PIE        A PIE       ADULTO   \n",
       "3                ARMA DE FUEGO  MOTOCICLETA        A PIE  ADULTOJOVEN   \n",
       "4  ARMA BLANCA / CORTOPUNZANTE  MOTOCICLETA     VEHICULO       ADULTO   \n",
       "\n",
       "        SEXO NACIONALIDAD    MARCA  \n",
       "0   FEMENINO     COLOMBIA  SAMSUNG  \n",
       "1   FEMENINO     COLOMBIA  SAMSUNG  \n",
       "2  MASCULINO     COLOMBIA   LENOVO  \n",
       "3  MASCULINO     COLOMBIA  SAMSUNG  \n",
       "4  MASCULINO     COLOMBIA    APPLE  "
      ]
     },
     "execution_count": 4,
     "metadata": {},
     "output_type": "execute_result"
    }
   ],
   "source": [
    "df.head()"
   ]
  },
  {
   "cell_type": "markdown",
   "metadata": {},
   "source": [
    "# Combinación de columnas"
   ]
  },
  {
   "cell_type": "markdown",
   "metadata": {},
   "source": [
    "Como queremos encontrar relaciones entre todas las parejas, es necesario sacar .csv con todas las parejas posibles. "
   ]
  },
  {
   "cell_type": "code",
   "execution_count": 6,
   "metadata": {},
   "outputs": [
    {
     "name": "stdout",
     "output_type": "stream",
     "text": [
      "<class 'list'>\n",
      "15\n",
      "['FECHA', 'DEPARTAMENTO', 'MUNICIPIO', 'DIA', 'HORA', 'BARRIO', 'ZONA', 'SITIO', 'ARMA', 'MOVILAGRESOR', 'MOVILVICTIMA', 'EDAD', 'SEXO', 'NACIONALIDAD', 'MARCA']\n"
     ]
    }
   ],
   "source": [
    "columnas = df.columns.values.tolist()\n",
    "print(len(columnas))\n",
    "print(columnas)"
   ]
  },
  {
   "cell_type": "markdown",
   "metadata": {},
   "source": [
    "Hacemos un recorrido doble sobre columns y para cada combinación de dos, sacamos un csv"
   ]
  },
  {
   "cell_type": "code",
   "execution_count": 8,
   "metadata": {},
   "outputs": [
    {
     "name": "stdout",
     "output_type": "stream",
     "text": [
      "105\n"
     ]
    }
   ],
   "source": [
    "parejas = list(itertools.combinations(columnas, 2)) # (15 con 2)\n",
    "num_combinaciones = len(parejas) \n",
    "print(num_combinaciones)"
   ]
  },
  {
   "cell_type": "code",
   "execution_count": 14,
   "metadata": {
    "collapsed": true
   },
   "outputs": [],
   "source": [
    "for pareja in parejas:\n",
    "    p1 = pareja[0]\n",
    "    p2 = pareja[1]\n",
    "    \n",
    "    df_pareja = df[list(pareja)]\n",
    "    \n",
    "    ruta_salida = './Parejas/'+p1 + '-'+ p2 + '.csv'\n",
    "    df_pareja.to_csv(ruta_salida, index=False, encoding='utf8' )"
   ]
  }
 ],
 "metadata": {
  "kernelspec": {
   "display_name": "Python 3",
   "language": "python",
   "name": "python3"
  },
  "language_info": {
   "codemirror_mode": {
    "name": "ipython",
    "version": 3
   },
   "file_extension": ".py",
   "mimetype": "text/x-python",
   "name": "python",
   "nbconvert_exporter": "python",
   "pygments_lexer": "ipython3",
   "version": "3.6.1"
  }
 },
 "nbformat": 4,
 "nbformat_minor": 2
}
