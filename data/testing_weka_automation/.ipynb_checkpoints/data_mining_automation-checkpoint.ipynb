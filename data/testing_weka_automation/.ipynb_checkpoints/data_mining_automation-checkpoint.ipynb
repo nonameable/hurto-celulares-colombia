{
 "cells": [
  {
   "cell_type": "code",
   "execution_count": 21,
   "metadata": {
    "collapsed": true
   },
   "outputs": [],
   "source": [
    "import subprocess"
   ]
  },
  {
   "cell_type": "code",
   "execution_count": 22,
   "metadata": {},
   "outputs": [],
   "source": [
    "ruta_archivo = 'ZONA-SEXO.csv' #Ruta al csv generado con OpenRefine\n",
    "ruta_salida = 'output_' + 'ZONA-SEXO' + '.txt' #Ruta del archivo csv de salida\n",
    "weka = \"/Users/damaderu/Documents/uniandes/BI/weka/weka-3-8-1/weka.jar\" #Ruta al jar de weka, depende del computador OJO\n",
    "txt_path= ruta_salida.replace('.csv','.txt') #Ruta al txt de salida."
   ]
  },
  {
   "cell_type": "code",
   "execution_count": null,
   "metadata": {
    "collapsed": true
   },
   "outputs": [],
   "source": [
    "weka.associations.Apriori -N 10 -T 0 -C 0.9 -D 0.05 -U 1.0 -M 0.1 -S -1.0 -c -1"
   ]
  },
  {
   "cell_type": "code",
   "execution_count": 27,
   "metadata": {
    "collapsed": true
   },
   "outputs": [],
   "source": [
    "import shlex\n",
    "from subprocess import Popen, PIPE\n",
    "\n",
    "def get_exitcode_stdout_stderr(cmd):\n",
    "    \"\"\"\n",
    "    Execute the external command and get its exitcode, stdout and stderr.\n",
    "    \"\"\"\n",
    "    args = shlex.split(cmd)\n",
    "\n",
    "    proc = Popen(args, stdout=PIPE, stderr=PIPE)\n",
    "    out, err = proc.communicate()\n",
    "    exitcode = proc.returncode\n",
    "    #\n",
    "    return exitcode, out, err"
   ]
  },
  {
   "cell_type": "code",
   "execution_count": 35,
   "metadata": {},
   "outputs": [],
   "source": [
    "cmd1 = \"java -classpath /Users/damaderu/Documents/uniandes/BI/weka/weka-3-8-1/weka.jar weka.classifiers.rules.ZeroR -t ZONA-SEXO.csv\"  # arbitrary external command, e.g. \"python mytest.py\"\n",
    "cmd2 = \"java -classpath /Users/damaderu/Documents/uniandes/BI/weka/weka-3-8-1/weka.jar weka.associations.Apriori -N 10 -T 0 -C 0.9 -D 0.05 -U 1.0 -M 0.1 -S -1.0 -c -t ZONA-SEXO.csv\"\n",
    "exitcode, out, err = get_exitcode_stdout_stderr(cmd2)"
   ]
  },
  {
   "cell_type": "code",
   "execution_count": 36,
   "metadata": {},
   "outputs": [
    {
     "name": "stdout",
     "output_type": "stream",
     "text": [
      "b'\\nApriori\\n=======\\n\\nMinimum support: 0.1 (3657 instances)\\nMinimum metric <confidence>: 0.9\\nNumber of cycles performed: 18\\n\\nGenerated sets of large itemsets:\\n\\nSize of set of large itemsets L(1): 3\\n\\nSize of set of large itemsets L(2): 2\\n\\nBest rules found:\\n\\n 1. SEXO=FEMENINO 17352 ==> ZONA=URBANA 16724    <conf:(0.96)> lift:(1.01) lev:(0) [127] conv:(1.2)\\n 2. SEXO=MASCULINO 18743 ==> ZONA=URBANA 17799    <conf:(0.95)> lift:(0.99) lev:(-0) [-127] conv:(0.86)\\n\\n=== Evaluation ===\\n\\nElapsed time: 0.076s\\n\\n'\n"
     ]
    }
   ],
   "source": [
    "print(out)"
   ]
  },
  {
   "cell_type": "code",
   "execution_count": 37,
   "metadata": {},
   "outputs": [
    {
     "name": "stdout",
     "output_type": "stream",
     "text": [
      "<class 'bytes'>\n"
     ]
    }
   ],
   "source": [
    "print(type(out))"
   ]
  },
  {
   "cell_type": "code",
   "execution_count": 38,
   "metadata": {
    "collapsed": true
   },
   "outputs": [],
   "source": [
    "with open('please.txt', 'wb') as w:\n",
    "    w.write(out)"
   ]
  },
  {
   "cell_type": "code",
   "execution_count": null,
   "metadata": {
    "collapsed": true
   },
   "outputs": [],
   "source": []
  }
 ],
 "metadata": {
  "kernelspec": {
   "display_name": "Python 3",
   "language": "python",
   "name": "python3"
  },
  "language_info": {
   "codemirror_mode": {
    "name": "ipython",
    "version": 3
   },
   "file_extension": ".py",
   "mimetype": "text/x-python",
   "name": "python",
   "nbconvert_exporter": "python",
   "pygments_lexer": "ipython3",
   "version": "3.6.1"
  }
 },
 "nbformat": 4,
 "nbformat_minor": 2
}
