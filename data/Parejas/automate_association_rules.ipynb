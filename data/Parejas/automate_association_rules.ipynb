{
 "cells": [
  {
   "cell_type": "code",
   "execution_count": 1,
   "metadata": {
    "collapsed": true
   },
   "outputs": [],
   "source": [
    "import subprocess"
   ]
  },
  {
   "cell_type": "code",
   "execution_count": 2,
   "metadata": {
    "collapsed": true
   },
   "outputs": [],
   "source": [
    "ruta_salida = 'output_' + 'ZONA-SEXO' + '.txt' #Ruta del archivo csv de salida\n",
    "java_and_classpath = \"java -classpath \"\n",
    "weka = \"/Users/damaderu/Documents/uniandes/BI/weka/weka-3-8-1/weka.jar \" #Ruta al jar de weka, depende del computador OJO\n",
    "txt_path= ruta_salida.replace('.csv','.txt') #Ruta al txt de salida."
   ]
  },
  {
   "cell_type": "markdown",
   "metadata": {},
   "source": [
    "### Define a function to call a weka process using command line arguments from a python script"
   ]
  },
  {
   "cell_type": "code",
   "execution_count": 3,
   "metadata": {
    "collapsed": true
   },
   "outputs": [],
   "source": [
    "import shlex\n",
    "from subprocess import Popen, PIPE\n",
    "\n",
    "def get_exitcode_stdout_stderr(cmd):\n",
    "    \"\"\"\n",
    "    Execute the external command and get its exitcode, stdout and stderr.\n",
    "    \"\"\"\n",
    "    args = shlex.split(cmd)\n",
    "\n",
    "    proc = Popen(args, stdout=PIPE, stderr=PIPE)\n",
    "    out, err = proc.communicate()\n",
    "    exitcode = proc.returncode\n",
    "    #\n",
    "    return exitcode, out, err"
   ]
  },
  {
   "cell_type": "markdown",
   "metadata": {},
   "source": [
    "### Define the weka command line arguments for each algorithm"
   ]
  },
  {
   "cell_type": "code",
   "execution_count": 25,
   "metadata": {
    "collapsed": true
   },
   "outputs": [],
   "source": [
    "apriori = \"weka.associations.Apriori -N 10 -T 0 -C 0.5 -D 0.05 -U 1.0 -M 0.1 -S -1.0 -c -t \"\n",
    "kmeans = \"weka.clusterers.SimpleKMeans -init 0 -max-candidates 100 -periodic-pruning 10000 -min-density 2.0 -t1 -1.25 -t2 -1.0 -N 2 -A \\\"weka.core.EuclideanDistance -R first-last\\\" -I 500 -num-slots 1 -S 10 -t \"     \n",
    "\n",
    "## OTHER RULES WE COULD USE\n",
    "\n",
    "basic_rules = \"weka.classifiers.rules.ZeroR -t \"\n",
    "j48_tree = \"weka.classifiers.trees.J48 -C 0.25 -M 25 -t \"\n",
    "\n",
    "\n",
    "\n"
   ]
  },
  {
   "cell_type": "markdown",
   "metadata": {},
   "source": [
    "### Get list of all .csv files in the current directory"
   ]
  },
  {
   "cell_type": "code",
   "execution_count": 26,
   "metadata": {},
   "outputs": [],
   "source": [
    "from os import listdir\n",
    "from os.path import isfile, join\n",
    "\n",
    "my_path = \"./\"\n",
    "file_names = [f for f in listdir(mypath) if isfile(join(my_path, f))]"
   ]
  },
  {
   "cell_type": "code",
   "execution_count": 27,
   "metadata": {},
   "outputs": [],
   "source": [
    "parejas_names = [elem for elem in file_names if elem.split(\".\")[1] == \"csv\"]"
   ]
  },
  {
   "cell_type": "code",
   "execution_count": 28,
   "metadata": {},
   "outputs": [],
   "source": [
    "for pareja in parejas_names:\n",
    "    cmd_apriori = java_and_classpath + weka +  apriori + pareja\n",
    "    exitcode_apriori, out_apriori, err_apriori = get_exitcode_stdout_stderr(cmd_apriori)\n",
    "    new_name = \"RESULT_\"+ pareja.split(\".\")[0]\n",
    "    with open( new_name + '_apriori.txt', 'wb') as w:\n",
    "        w.write(out_apriori)"
   ]
  },
  {
   "cell_type": "code",
   "execution_count": null,
   "metadata": {
    "collapsed": true
   },
   "outputs": [],
   "source": []
  }
 ],
 "metadata": {
  "kernelspec": {
   "display_name": "Python 3",
   "language": "python",
   "name": "python3"
  },
  "language_info": {
   "codemirror_mode": {
    "name": "ipython",
    "version": 3
   },
   "file_extension": ".py",
   "mimetype": "text/x-python",
   "name": "python",
   "nbconvert_exporter": "python",
   "pygments_lexer": "ipython3",
   "version": "3.6.1"
  }
 },
 "nbformat": 4,
 "nbformat_minor": 2
}
