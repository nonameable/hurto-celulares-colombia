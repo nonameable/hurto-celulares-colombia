{
 "cells": [
  {
   "cell_type": "code",
   "execution_count": 7,
   "metadata": {
    "collapsed": true
   },
   "outputs": [],
   "source": [
    "import subprocess"
   ]
  },
  {
   "cell_type": "code",
   "execution_count": 8,
   "metadata": {
    "collapsed": true
   },
   "outputs": [],
   "source": [
    "ruta_salida = 'output_' + 'ZONA-SEXO' + '.txt' #Ruta del archivo csv de salida\n",
    "java_and_classpath = \"java -classpath \"\n",
    "weka = \"/Users/damaderu/Documents/uniandes/BI/weka/weka-3-8-1/weka.jar \" #Ruta al jar de weka, depende del computador OJO\n",
    "txt_path= ruta_salida.replace('.csv','.txt') #Ruta al txt de salida."
   ]
  },
  {
   "cell_type": "code",
   "execution_count": 9,
   "metadata": {
    "collapsed": true
   },
   "outputs": [],
   "source": [
    "import shlex\n",
    "from subprocess import Popen, PIPE\n",
    "\n",
    "def get_exitcode_stdout_stderr(cmd):\n",
    "    \"\"\"\n",
    "    Execute the external command and get its exitcode, stdout and stderr.\n",
    "    \"\"\"\n",
    "    args = shlex.split(cmd)\n",
    "\n",
    "    proc = Popen(args, stdout=PIPE, stderr=PIPE)\n",
    "    out, err = proc.communicate()\n",
    "    exitcode = proc.returncode\n",
    "    #\n",
    "    return exitcode, out, err"
   ]
  },
  {
   "cell_type": "code",
   "execution_count": 13,
   "metadata": {
    "collapsed": true
   },
   "outputs": [],
   "source": [
    "kmeans = \"weka.clusterers.SimpleKMeans -init 0 -max-candidates 100 -periodic-pruning 10000 -min-density 2.0 -t1 -1.25 -t2 -1.0 -N 30 -A \\\"weka.core.EuclideanDistance -R first-last\\\" -I 500 -num-slots 1 -S 10 -t \"     \n"
   ]
  },
  {
   "cell_type": "code",
   "execution_count": 14,
   "metadata": {},
   "outputs": [],
   "source": [
    "cmd_kmeans = java_and_classpath + weka +  kmeans + \"DatosPreprocesadosASCIISparseAfterFilters.arff\"\n",
    "exitcode_kmeans, out_kmeans, err_kmeans = get_exitcode_stdout_stderr(cmd_kmeans)\n",
    "new_name = \"RESULT\"\n",
    "with open( new_name + '_apriori.txt', 'wb') as w:\n",
    "    w.write(out_kmeans)"
   ]
  },
  {
   "cell_type": "code",
   "execution_count": null,
   "metadata": {
    "collapsed": true
   },
   "outputs": [],
   "source": []
  }
 ],
 "metadata": {
  "kernelspec": {
   "display_name": "Python 3",
   "language": "python",
   "name": "python3"
  },
  "language_info": {
   "codemirror_mode": {
    "name": "ipython",
    "version": 3
   },
   "file_extension": ".py",
   "mimetype": "text/x-python",
   "name": "python",
   "nbconvert_exporter": "python",
   "pygments_lexer": "ipython3",
   "version": "3.6.1"
  }
 },
 "nbformat": 4,
 "nbformat_minor": 2
}
